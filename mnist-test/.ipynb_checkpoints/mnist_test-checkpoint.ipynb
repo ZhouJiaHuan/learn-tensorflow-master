{
 "cells": [
  {
   "cell_type": "code",
   "execution_count": 1,
   "metadata": {},
   "outputs": [],
   "source": [
    "import tensorflow as tf\n",
    "import numpy as np\n",
    "import matplotlib.pyplot as plt\n",
    "%matplotlib inline\n",
    "import cv2"
   ]
  },
  {
   "cell_type": "code",
   "execution_count": 2,
   "metadata": {},
   "outputs": [],
   "source": [
    "test_image = cv2.imread(\"test_images/test_image0.png\", 0)\n",
    "test_image = np.float32(test_image)"
   ]
  },
  {
   "cell_type": "code",
   "execution_count": 3,
   "metadata": {},
   "outputs": [
    {
     "name": "stdout",
     "output_type": "stream",
     "text": [
      "(28, 28)\n"
     ]
    }
   ],
   "source": [
    "print(test_image.shape)"
   ]
  },
  {
   "cell_type": "code",
   "execution_count": 4,
   "metadata": {},
   "outputs": [
    {
     "data": {
      "text/plain": [
       "<matplotlib.image.AxesImage at 0x7fecc21f5f10>"
      ]
     },
     "execution_count": 4,
     "metadata": {},
     "output_type": "execute_result"
    },
    {
     "data": {
      "image/png": "[encoded data removed]",
      "text/plain": [
       "<matplotlib.figure.Figure at 0x7fecc428d450>"
      ]
     },
     "metadata": {},
     "output_type": "display_data"
    }
   ],
   "source": [
    "plt.imshow(test_image, cmap=\"gray\")"
   ]
  },
  {
   "cell_type": "code",
   "execution_count": 5,
   "metadata": {},
   "outputs": [
    {
     "name": "stdout",
     "output_type": "stream",
     "text": [
      "INFO:tensorflow:Restoring parameters from ./test_model/test_model\n",
      "[[0. 0. 0. 0. 0. 0. 0. 1. 0. 0.]]\n",
      "test out =  [7]\n"
     ]
    }
   ],
   "source": [
    "#X = tf.placeholder(tf.float32,(1,28,28,1))\n",
    "with tf.Session() as sess:\n",
    "    saver = tf.train.import_meta_graph(\"test_model/test_model.meta\")\n",
    "    saver.restore(sess, tf.train.latest_checkpoint(\"./test_model/\"))\n",
    "    graph = tf.get_default_graph()\n",
    "    X = graph.get_tensor_by_name(\"X:0\")\n",
    "    keep_prob = graph.get_tensor_by_name(\"keep_prob:0\")\n",
    "    test_image = np.reshape(test_image,[1,28,28,1])\n",
    "    feed_dict = {X: test_image, keep_prob:1}\n",
    "    Y = graph.get_tensor_by_name(\"Y:0\")\n",
    "    print(sess.run(Y, feed_dict=feed_dict))\n",
    "    test_out = tf.argmax(Y, axis=1)\n",
    "    print \"test out = \", sess.run(test_out, feed_dict=feed_dict)"
   ]
  },
  {
   "cell_type": "code",
   "execution_count": null,
   "metadata": {},
   "outputs": [],
   "source": []
  }
 ],
 "metadata": {
  "kernelspec": {
   "display_name": "Python 2",
   "language": "python",
   "name": "python2"
  },
  "language_info": {
   "codemirror_mode": {
    "name": "ipython",
    "version": 2
   },
   "file_extension": ".py",
   "mimetype": "text/x-python",
   "name": "python",
   "nbconvert_exporter": "python",
   "pygments_lexer": "ipython2",
   "version": "2.7.6"
  }
 },
 "nbformat": 4,
 "nbformat_minor": 2
}
