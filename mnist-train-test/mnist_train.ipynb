{
 "cells": [
  {
   "cell_type": "code",
   "execution_count": 1,
   "metadata": {},
   "outputs": [],
   "source": [
    "import tensorflow as tf\n",
    "import numpy as np\n",
    "import matplotlib.pyplot as plt\n",
    "%matplotlib inline\n",
    "\n",
    "from tensorflow.examples.tutorials.mnist import input_data"
   ]
  },
  {
   "cell_type": "code",
   "execution_count": 2,
   "metadata": {},
   "outputs": [
    {
     "name": "stdout",
     "output_type": "stream",
     "text": [
      "Extracting input_data/train-images-idx3-ubyte.gz\n",
      "Extracting input_data/train-labels-idx1-ubyte.gz\n",
      "Extracting input_data/t10k-images-idx3-ubyte.gz\n",
      "Extracting input_data/t10k-labels-idx1-ubyte.gz\n"
     ]
    }
   ],
   "source": [
    "## load data（input_data/）\n",
    "mnist = input_data.read_data_sets('input_data/',one_hot=True,reshape=False)\n",
    "X = tf.placeholder(tf.float32,[None,28,28,1], name=\"X\") # input of the model\n",
    "Y_ = tf.placeholder(tf.float32,[None,10], name=\"Y_\") # output of the model"
   ]
  },
  {
   "cell_type": "code",
   "execution_count": 3,
   "metadata": {},
   "outputs": [],
   "source": [
    "## Parameters initialization\n",
    "K = 16\n",
    "L = 32\n",
    "M = 32\n",
    "\n",
    "W1 = tf.Variable(tf.truncated_normal([5,5,1,K],stddev=0.1))\n",
    "B1 = tf.Variable(tf.constant(0.1,tf.float32,[K]))\n",
    "W2 = tf.Variable(tf.truncated_normal([5,5,K,L],stddev=0.1))\n",
    "B2 = tf.Variable(tf.constant(0.1,tf.float32,[L]))\n",
    "W3 = tf.Variable(tf.truncated_normal([7*7*L,M],stddev=0.1))\n",
    "B3 = tf.Variable(tf.constant(0.1,tf.float32,[M]))\n",
    "W4 = tf.Variable(tf.truncated_normal([M,10],stddev=0.1))\n",
    "B4 = tf.Variable(tf.constant(0.1,tf.float32,[10]))"
   ]
  },
  {
   "cell_type": "code",
   "execution_count": 4,
   "metadata": {},
   "outputs": [],
   "source": [
    "## Model structure\n",
    "keep_prob = tf.placeholder(tf.float32, name=\"keep_prob\") # dropout: keep prob\n",
    "\n",
    "conv1 = tf.nn.relu(tf.nn.conv2d(X,W1,strides=[1,1,1,1],padding='SAME')+B1)\n",
    "pool1 = tf.nn.max_pool(conv1,ksize=[1,2,2,1],strides=[1,2,2,1],padding='SAME')\n",
    "conv2 = tf.nn.relu(tf.nn.conv2d(pool1,W2,strides=[1,1,1,1],padding='SAME')+B2)\n",
    "pool2 = tf.nn.max_pool(conv2,ksize=[1,2,2,1],strides=[1,2,2,1],padding='SAME')\n",
    "pool2_flat = tf.reshape(pool2,[-1,7*7*L])\n",
    "fc1 = tf.nn.relu(tf.matmul(pool2_flat,W3)+B3)\n",
    "fc1_drop = tf.nn.dropout(fc1,keep_prob)\n",
    "Ylogits = tf.matmul(fc1_drop,W4)+B4\n",
    "Y = tf.nn.softmax(Ylogits, name=\"Y\")"
   ]
  },
  {
   "cell_type": "code",
   "execution_count": 5,
   "metadata": {},
   "outputs": [],
   "source": [
    "## Loss function: cross entropy \n",
    "cross_entropy = tf.nn.softmax_cross_entropy_with_logits(logits=Ylogits,labels=Y_)\n",
    "cross_entropy = tf.reduce_mean(cross_entropy)"
   ]
  },
  {
   "cell_type": "code",
   "execution_count": 6,
   "metadata": {},
   "outputs": [],
   "source": [
    "## Accuracy\n",
    "is_accuracy = tf.equal(tf.argmax(Y_,1),tf.argmax(Y,1))\n",
    "accuracy = tf.reduce_mean(tf.cast(is_accuracy,tf.float32))"
   ]
  },
  {
   "cell_type": "code",
   "execution_count": 7,
   "metadata": {},
   "outputs": [
    {
     "name": "stdout",
     "output_type": "stream",
     "text": [
      "('epoch = 0, ', 'test accuracy = 0.1128,', 'test loss = 2.333412', 'learning rate = 0.003000')\n",
      "('epoch = 10, ', 'test accuracy = 0.5641,', 'test loss = 2.042782', 'learning rate = 0.002986')\n",
      "('epoch = 20, ', 'test accuracy = 0.6573,', 'test loss = 1.344129', 'learning rate = 0.002971')\n",
      "('epoch = 30, ', 'test accuracy = 0.7656,', 'test loss = 0.968288', 'learning rate = 0.002957')\n",
      "('epoch = 40, ', 'test accuracy = 0.8053,', 'test loss = 0.699313', 'learning rate = 0.002943')\n",
      "('epoch = 50, ', 'test accuracy = 0.8371,', 'test loss = 0.595425', 'learning rate = 0.002928')\n",
      "('epoch = 60, ', 'test accuracy = 0.8725,', 'test loss = 0.485973', 'learning rate = 0.002914')\n",
      "('epoch = 70, ', 'test accuracy = 0.8955,', 'test loss = 0.445268', 'learning rate = 0.002900')\n",
      "('epoch = 80, ', 'test accuracy = 0.9055,', 'test loss = 0.364110', 'learning rate = 0.002886')\n",
      "('epoch = 90, ', 'test accuracy = 0.9173,', 'test loss = 0.304880', 'learning rate = 0.002872')\n",
      "('test accuracy = 0.9232, ', 'test loss = 0.291504')\n"
     ]
    }
   ],
   "source": [
    "## Model training\n",
    "epoch = 100\n",
    "batch = 100\n",
    "\n",
    "# some lists used for saving results\n",
    "train_acc = []\n",
    "train_loss = []\n",
    "test_acc = []\n",
    "test_loss = []\n",
    "\n",
    "lr = tf.placeholder(tf.float32) # learning rate (variable)\n",
    "optimizer = tf.train.AdamOptimizer(lr) # optimal method\n",
    "train_step = optimizer.minimize(cross_entropy)\n",
    "saver = tf.train.Saver()\n",
    "init = tf.global_variables_initializer() # initialize all variables\n",
    "\n",
    "with tf.Session() as sess:\n",
    "    sess.run(init) # run initialization process\n",
    "    for i in range(epoch):\n",
    "        # learning rate\n",
    "        max_lr = 0.003\n",
    "        min_lr = 0.0001\n",
    "        decay_speed = 2000.0\n",
    "        learning_rate = min_lr+(max_lr-min_lr)*np.math.exp(-i/decay_speed)\n",
    "\n",
    "        # training step\n",
    "        batch_X,batch_Y = mnist.train.next_batch(batch) # load one batch training data\n",
    "        train_data = {X:batch_X, Y_:batch_Y,lr:learning_rate, keep_prob:0.5} # dictionary\n",
    "        sess.run(train_step,feed_dict=train_data) # train one step\n",
    "\n",
    "        # save results\n",
    "        acc,loss = sess.run([accuracy,cross_entropy],feed_dict=train_data)\n",
    "        train_acc.append(acc)\n",
    "        train_loss.append(loss)\n",
    "\n",
    "        test_data = {X:mnist.test.images,Y_:mnist.test.labels,keep_prob:1}\n",
    "        acc,loss = sess.run([accuracy,cross_entropy],feed_dict=test_data)\n",
    "        test_acc.append(acc)\n",
    "        test_loss.append(loss)\n",
    "\n",
    "        # print training process\n",
    "        if i%10 == 0:\n",
    "            print(\"epoch = %d, \" %i, \"test accuracy = %.4f,\" %test_acc[i], \\\n",
    "            \"test loss = %.6f\" %test_loss[i], \"learning rate = %.6f\" %learning_rate)\n",
    "        if i == epoch-1:\n",
    "            saver.save(sess, 'test_model/test_model')\n",
    "\n",
    "print(\"test accuracy = %.4f, \" %test_acc[-1], \"test loss = %.6f\" %test_loss[-1])"
   ]
  },
  {
   "cell_type": "code",
   "execution_count": null,
   "metadata": {},
   "outputs": [],
   "source": []
  }
 ],
 "metadata": {
  "kernelspec": {
   "display_name": "Python 3",
   "language": "python",
   "name": "python3"
  },
  "language_info": {
   "codemirror_mode": {
    "name": "ipython",
    "version": 3
   },
   "file_extension": ".py",
   "mimetype": "text/x-python",
   "name": "python",
   "nbconvert_exporter": "python",
   "pygments_lexer": "ipython3",
   "version": "3.6.4"
  }
 },
 "nbformat": 4,
 "nbformat_minor": 2
}
