{
 "cells": [
  {
   "cell_type": "markdown",
   "metadata": {},
   "source": [
    "## tensorflow.gfile模块的简单使用"
   ]
  },
  {
   "cell_type": "code",
   "execution_count": 1,
   "metadata": {},
   "outputs": [],
   "source": [
    "from tensorflow import gfile as gfile"
   ]
  },
  {
   "cell_type": "code",
   "execution_count": 2,
   "metadata": {},
   "outputs": [
    {
     "data": {
      "text/plain": [
       "['.\\\\.ipynb_checkpoints',\n",
       " '.\\\\test_dir',\n",
       " '.\\\\test_image.png',\n",
       " '.\\\\tf.gfile.ipynb',\n",
       " '.\\\\.ipynb_checkpoints\\\\tf.gfile-checkpoint.ipynb']"
      ]
     },
     "execution_count": 2,
     "metadata": {},
     "output_type": "execute_result"
    }
   ],
   "source": [
    "gfile.Glob(\"./*\") # 列表形式返回满足通配符的文件名"
   ]
  },
  {
   "cell_type": "code",
   "execution_count": 4,
   "metadata": {},
   "outputs": [
    {
     "data": {
      "text/plain": [
       "['.\\\\test_image.png', '.\\\\test_image_copy.png']"
      ]
     },
     "execution_count": 4,
     "metadata": {},
     "output_type": "execute_result"
    }
   ],
   "source": [
    "file_path = \"./test_image.png\"\n",
    "copy_path = \"./test_image_copy.png\"\n",
    "gfile.Copy(file_path, copy_path, overwrite=True)\n",
    "gfile.Glob(\"./*.png\")"
   ]
  },
  {
   "cell_type": "code",
   "execution_count": 5,
   "metadata": {},
   "outputs": [
    {
     "data": {
      "text/plain": [
       "['.\\\\.ipynb_checkpoints',\n",
       " '.\\\\test_dir',\n",
       " '.\\\\test_image.png',\n",
       " '.\\\\test_image_copy.png',\n",
       " '.\\\\tf.gfile.ipynb',\n",
       " '.\\\\.ipynb_checkpoints\\\\tf.gfile-checkpoint.ipynb']"
      ]
     },
     "execution_count": 5,
     "metadata": {},
     "output_type": "execute_result"
    }
   ],
   "source": [
    "gfile.MkDir(\"./test_dir\")\n",
    "gfile.Glob(\"./*\")"
   ]
  },
  {
   "cell_type": "code",
   "execution_count": 6,
   "metadata": {},
   "outputs": [
    {
     "data": {
      "text/plain": [
       "['.\\\\test_image.png']"
      ]
     },
     "execution_count": 6,
     "metadata": {},
     "output_type": "execute_result"
    }
   ],
   "source": [
    "gfile.Remove(copy_path)\n",
    "gfile.Glob(\"./*.png\")"
   ]
  },
  {
   "cell_type": "code",
   "execution_count": 7,
   "metadata": {},
   "outputs": [
    {
     "data": {
      "text/plain": [
       "['.\\\\.ipynb_checkpoints',\n",
       " '.\\\\test_dir',\n",
       " '.\\\\test_dir1',\n",
       " '.\\\\test_image.png',\n",
       " '.\\\\tf.gfile.ipynb',\n",
       " '.\\\\.ipynb_checkpoints\\\\tf.gfile-checkpoint.ipynb',\n",
       " '.\\\\test_dir1\\\\test_dir1_1']"
      ]
     },
     "execution_count": 7,
     "metadata": {},
     "output_type": "execute_result"
    }
   ],
   "source": [
    "gfile.MakeDirs(\"./test_dir1/test_dir1_1/\")\n",
    "gfile.Glob(\"./*\")"
   ]
  },
  {
   "cell_type": "code",
   "execution_count": 8,
   "metadata": {},
   "outputs": [
    {
     "data": {
      "text/plain": [
       "['.\\\\.ipynb_checkpoints',\n",
       " '.\\\\test_dir',\n",
       " '.\\\\test_dir1',\n",
       " '.\\\\test_image.png',\n",
       " '.\\\\tf.gfile.ipynb',\n",
       " '.\\\\.ipynb_checkpoints\\\\tf.gfile-checkpoint.ipynb',\n",
       " '.\\\\test_dir1\\\\test_dir1_1',\n",
       " '.\\\\test_dir1\\\\test_dir1_1\\\\file_path_copy.png']"
      ]
     },
     "execution_count": 8,
     "metadata": {},
     "output_type": "execute_result"
    }
   ],
   "source": [
    "gfile.Copy(file_path, \"./test_dir1/test_dir1_1/file_path_copy.png\")\n",
    "gfile.Glob(\"./*\")"
   ]
  },
  {
   "cell_type": "code",
   "execution_count": 9,
   "metadata": {},
   "outputs": [
    {
     "data": {
      "text/plain": [
       "['.\\\\.ipynb_checkpoints',\n",
       " '.\\\\test_dir',\n",
       " '.\\\\test_image.png',\n",
       " '.\\\\tf.gfile.ipynb',\n",
       " '.\\\\.ipynb_checkpoints\\\\tf.gfile-checkpoint.ipynb']"
      ]
     },
     "execution_count": 9,
     "metadata": {},
     "output_type": "execute_result"
    }
   ],
   "source": [
    "gfile.DeleteRecursively(\"test_dir1/\")\n",
    "gfile.Glob(\"./*\")"
   ]
  },
  {
   "cell_type": "code",
   "execution_count": 10,
   "metadata": {},
   "outputs": [
    {
     "name": "stdout",
     "output_type": "stream",
     "text": [
      "True\n",
      "False\n"
     ]
    }
   ],
   "source": [
    "print(gfile.Exists(\"test_image.png\"))\n",
    "print(gfile.Exists(\"./test_dir1/\"))"
   ]
  },
  {
   "cell_type": "code",
   "execution_count": 11,
   "metadata": {},
   "outputs": [
    {
     "name": "stdout",
     "output_type": "stream",
     "text": [
      "False\n",
      "True\n"
     ]
    }
   ],
   "source": [
    "print(gfile.IsDirectory(\"test_image.png\"))\n",
    "print(gfile.IsDirectory(\"test_dir\"))"
   ]
  },
  {
   "cell_type": "code",
   "execution_count": 12,
   "metadata": {},
   "outputs": [
    {
     "data": {
      "text/plain": [
       "['.ipynb_checkpoints', 'test_dir', 'test_image.png', 'tf.gfile.ipynb']"
      ]
     },
     "execution_count": 12,
     "metadata": {},
     "output_type": "execute_result"
    }
   ],
   "source": [
    "gfile.ListDirectory(\"./\")"
   ]
  },
  {
   "cell_type": "code",
   "execution_count": 13,
   "metadata": {},
   "outputs": [
    {
     "data": {
      "text/plain": [
       "['.\\\\test_image_rename.png']"
      ]
     },
     "execution_count": 13,
     "metadata": {},
     "output_type": "execute_result"
    }
   ],
   "source": [
    "gfile.Rename(\"test_image.png\", \"test_image_rename.png\")\n",
    "gfile.Glob(\"./*.png\")"
   ]
  }
 ],
 "metadata": {
  "kernelspec": {
   "display_name": "Python 3",
   "language": "python",
   "name": "python3"
  },
  "language_info": {
   "codemirror_mode": {
    "name": "ipython",
    "version": 3
   },
   "file_extension": ".py",
   "mimetype": "text/x-python",
   "name": "python",
   "nbconvert_exporter": "python",
   "pygments_lexer": "ipython3",
   "version": "3.6.4"
  }
 },
 "nbformat": 4,
 "nbformat_minor": 2
}
